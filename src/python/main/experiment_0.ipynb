{
  "cells": [
    {
      "cell_type": "code",
      "execution_count": 1,
      "id": "91420934-61eb-48cf-ad2b-d4d61270fc6b",
      "metadata": {
        "colab": {
          "base_uri": "https://localhost:8080/"
        },
        "id": "91420934-61eb-48cf-ad2b-d4d61270fc6b",
        "outputId": "abf578ea-8376-419d-ce75-e80a3a11f4e5"
      },
      "outputs": [
        {
          "output_type": "stream",
          "name": "stdout",
          "text": [
            "Hello World\n"
          ]
        }
      ],
      "source": [
        "print(\"Hello World\")"
      ]
    },
    {
      "cell_type": "code",
      "execution_count": 10,
      "id": "8c64bca1-7135-4364-9cb6-32401002ecfb",
      "metadata": {
        "colab": {
          "base_uri": "https://localhost:8080/"
        },
        "id": "8c64bca1-7135-4364-9cb6-32401002ecfb",
        "outputId": "8247bed1-155a-47b1-8619-466afebfdbd4"
      },
      "outputs": [
        {
          "output_type": "execute_result",
          "data": {
            "text/plain": [
              "('the-verdict.txt', <http.client.HTTPMessage at 0x7c901c0817d0>)"
            ]
          },
          "metadata": {},
          "execution_count": 10
        }
      ],
      "source": [
        "import urllib.request\n",
        "url = (\"https://raw.githubusercontent.com/rasbt/\"\n",
        "       \"LLMs-from-scratch/main/ch02/01_main-chapter-code/\"\n",
        "        \"the-verdict.txt\")\n",
        "file_path = \"the-verdict.txt\"\n",
        "urllib.request.urlretrieve(url, file_path)"
      ]
    },
    {
      "cell_type": "code",
      "source": [
        "with open(\"the-verdict.txt\", \"r\", encoding=\"utf-8\") as f:\n",
        "  raw_text = f.read()\n",
        "print(\"Total number of character:\", len(raw_text))\n",
        "print(raw_text[:99])"
      ],
      "metadata": {
        "id": "i2OaYcrqDOgt",
        "outputId": "c0b67c61-7a69-40c9-a270-5f4a207374d5",
        "colab": {
          "base_uri": "https://localhost:8080/"
        }
      },
      "id": "i2OaYcrqDOgt",
      "execution_count": 11,
      "outputs": [
        {
          "output_type": "stream",
          "name": "stdout",
          "text": [
            "Total number of character: 20479\n",
            "I HAD always thought Jack Gisburn rather a cheap genius--though a good fellow enough--so it was no \n"
          ]
        }
      ]
    },
    {
      "cell_type": "code",
      "source": [
        "import re\n",
        "pre_processed_text = re.split(r'([,.:;?_!\"()\\']|--|\\s)', raw_text)\n",
        "pre_processed_text = [item.strip() for item in pre_processed_text if item.strip()]\n",
        "print(len(pre_processed_text))"
      ],
      "metadata": {
        "id": "bzFf-aRJD7GP",
        "outputId": "af222453-b7a0-4ff7-96fb-edb43b4048d4",
        "colab": {
          "base_uri": "https://localhost:8080/"
        }
      },
      "id": "bzFf-aRJD7GP",
      "execution_count": 15,
      "outputs": [
        {
          "output_type": "stream",
          "name": "stdout",
          "text": [
            "4690\n"
          ]
        }
      ]
    },
    {
      "cell_type": "code",
      "source": [
        "all_words = sorted(set(pre_processed_text))\n",
        "vocab_size = len(all_words)\n",
        "print(vocab_size)"
      ],
      "metadata": {
        "id": "-CqqcTfjGELA",
        "outputId": "19373a33-a267-4a77-cf11-c4c647ef72cc",
        "colab": {
          "base_uri": "https://localhost:8080/"
        }
      },
      "id": "-CqqcTfjGELA",
      "execution_count": 16,
      "outputs": [
        {
          "output_type": "stream",
          "name": "stdout",
          "text": [
            "1130\n"
          ]
        }
      ]
    }
  ],
  "metadata": {
    "kernelspec": {
      "display_name": "Python 3 (ipykernel)",
      "language": "python",
      "name": "python3"
    },
    "language_info": {
      "codemirror_mode": {
        "name": "ipython",
        "version": 3
      },
      "file_extension": ".py",
      "mimetype": "text/x-python",
      "name": "python",
      "nbconvert_exporter": "python",
      "pygments_lexer": "ipython3",
      "version": "3.11.7"
    },
    "colab": {
      "provenance": []
    }
  },
  "nbformat": 4,
  "nbformat_minor": 5
}