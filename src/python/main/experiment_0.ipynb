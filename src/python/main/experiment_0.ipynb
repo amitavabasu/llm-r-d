{
  "cells": [
    {
      "cell_type": "code",
      "execution_count": 1,
      "id": "91420934-61eb-48cf-ad2b-d4d61270fc6b",
      "metadata": {
        "colab": {
          "base_uri": "https://localhost:8080/"
        },
        "id": "91420934-61eb-48cf-ad2b-d4d61270fc6b",
        "outputId": "abf578ea-8376-419d-ce75-e80a3a11f4e5"
      },
      "outputs": [
        {
          "output_type": "stream",
          "name": "stdout",
          "text": [
            "Hello World\n"
          ]
        }
      ],
      "source": [
        "print(\"Hello World\")"
      ]
    },
    {
      "cell_type": "code",
      "execution_count": null,
      "id": "8c64bca1-7135-4364-9cb6-32401002ecfb",
      "metadata": {
        "id": "8c64bca1-7135-4364-9cb6-32401002ecfb"
      },
      "outputs": [],
      "source": []
    }
  ],
  "metadata": {
    "kernelspec": {
      "display_name": "Python 3 (ipykernel)",
      "language": "python",
      "name": "python3"
    },
    "language_info": {
      "codemirror_mode": {
        "name": "ipython",
        "version": 3
      },
      "file_extension": ".py",
      "mimetype": "text/x-python",
      "name": "python",
      "nbconvert_exporter": "python",
      "pygments_lexer": "ipython3",
      "version": "3.11.7"
    },
    "colab": {
      "provenance": []
    }
  },
  "nbformat": 4,
  "nbformat_minor": 5
}